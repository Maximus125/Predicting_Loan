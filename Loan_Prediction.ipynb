{
  "nbformat": 4,
  "nbformat_minor": 0,
  "metadata": {
    "colab": {
      "name": "Loan_Prediction.ipynb",
      "provenance": [],
      "collapsed_sections": [],
      "toc_visible": true,
      "authorship_tag": "ABX9TyM/hFVbXsa81LmL2j+nYnzX",
      "include_colab_link": true
    },
    "kernelspec": {
      "name": "python3",
      "display_name": "Python 3"
    },
    "accelerator": "GPU"
  },
  "cells": [
    {
      "cell_type": "markdown",
      "metadata": {
        "id": "view-in-github",
        "colab_type": "text"
      },
      "source": [
        "<a href=\"https://colab.research.google.com/github/Maximus125/Predicting_Loan/blob/master/Loan_Prediction.ipynb\" target=\"_parent\"><img src=\"https://colab.research.google.com/assets/colab-badge.svg\" alt=\"Open In Colab\"/></a>"
      ]
    },
    {
      "cell_type": "code",
      "metadata": {
        "id": "jFKx1bxGD2KQ",
        "colab_type": "code",
        "colab": {}
      },
      "source": [
        "import numpy as np\n",
        "import pandas as pd\n",
        "import matplotlib.pyplot as plt"
      ],
      "execution_count": 349,
      "outputs": []
    },
    {
      "cell_type": "markdown",
      "metadata": {
        "id": "N2M5pezWEG4R",
        "colab_type": "text"
      },
      "source": [
        "## *Reading the data*"
      ]
    },
    {
      "cell_type": "code",
      "metadata": {
        "id": "DeIHw8EFEE3m",
        "colab_type": "code",
        "colab": {
          "base_uri": "https://localhost:8080/",
          "height": 204
        },
        "outputId": "d3617cd3-fefc-4233-c6fc-829b2ae7ced1"
      },
      "source": [
        "df = pd.read_csv('loan_data.csv')\n",
        "df.head()"
      ],
      "execution_count": 350,
      "outputs": [
        {
          "output_type": "execute_result",
          "data": {
            "text/html": [
              "<div>\n",
              "<style scoped>\n",
              "    .dataframe tbody tr th:only-of-type {\n",
              "        vertical-align: middle;\n",
              "    }\n",
              "\n",
              "    .dataframe tbody tr th {\n",
              "        vertical-align: top;\n",
              "    }\n",
              "\n",
              "    .dataframe thead th {\n",
              "        text-align: right;\n",
              "    }\n",
              "</style>\n",
              "<table border=\"1\" class=\"dataframe\">\n",
              "  <thead>\n",
              "    <tr style=\"text-align: right;\">\n",
              "      <th></th>\n",
              "      <th>Loan_ID</th>\n",
              "      <th>Gender</th>\n",
              "      <th>Married</th>\n",
              "      <th>Dependents</th>\n",
              "      <th>Education</th>\n",
              "      <th>Self_Employed</th>\n",
              "      <th>ApplicantIncome</th>\n",
              "      <th>CoapplicantIncome</th>\n",
              "      <th>LoanAmount</th>\n",
              "      <th>Loan_Amount_Term</th>\n",
              "      <th>Credit_History</th>\n",
              "      <th>Property_Area</th>\n",
              "      <th>Loan_Status</th>\n",
              "    </tr>\n",
              "  </thead>\n",
              "  <tbody>\n",
              "    <tr>\n",
              "      <th>0</th>\n",
              "      <td>LP001002</td>\n",
              "      <td>Male</td>\n",
              "      <td>No</td>\n",
              "      <td>0</td>\n",
              "      <td>Graduate</td>\n",
              "      <td>No</td>\n",
              "      <td>5849</td>\n",
              "      <td>0.0</td>\n",
              "      <td>NaN</td>\n",
              "      <td>360.0</td>\n",
              "      <td>1.0</td>\n",
              "      <td>Urban</td>\n",
              "      <td>Y</td>\n",
              "    </tr>\n",
              "    <tr>\n",
              "      <th>1</th>\n",
              "      <td>LP001003</td>\n",
              "      <td>Male</td>\n",
              "      <td>Yes</td>\n",
              "      <td>1</td>\n",
              "      <td>Graduate</td>\n",
              "      <td>No</td>\n",
              "      <td>4583</td>\n",
              "      <td>1508.0</td>\n",
              "      <td>128.0</td>\n",
              "      <td>360.0</td>\n",
              "      <td>1.0</td>\n",
              "      <td>Rural</td>\n",
              "      <td>N</td>\n",
              "    </tr>\n",
              "    <tr>\n",
              "      <th>2</th>\n",
              "      <td>LP001005</td>\n",
              "      <td>Male</td>\n",
              "      <td>Yes</td>\n",
              "      <td>0</td>\n",
              "      <td>Graduate</td>\n",
              "      <td>Yes</td>\n",
              "      <td>3000</td>\n",
              "      <td>0.0</td>\n",
              "      <td>66.0</td>\n",
              "      <td>360.0</td>\n",
              "      <td>1.0</td>\n",
              "      <td>Urban</td>\n",
              "      <td>Y</td>\n",
              "    </tr>\n",
              "    <tr>\n",
              "      <th>3</th>\n",
              "      <td>LP001006</td>\n",
              "      <td>Male</td>\n",
              "      <td>Yes</td>\n",
              "      <td>0</td>\n",
              "      <td>Not Graduate</td>\n",
              "      <td>No</td>\n",
              "      <td>2583</td>\n",
              "      <td>2358.0</td>\n",
              "      <td>120.0</td>\n",
              "      <td>360.0</td>\n",
              "      <td>1.0</td>\n",
              "      <td>Urban</td>\n",
              "      <td>Y</td>\n",
              "    </tr>\n",
              "    <tr>\n",
              "      <th>4</th>\n",
              "      <td>LP001008</td>\n",
              "      <td>Male</td>\n",
              "      <td>No</td>\n",
              "      <td>0</td>\n",
              "      <td>Graduate</td>\n",
              "      <td>No</td>\n",
              "      <td>6000</td>\n",
              "      <td>0.0</td>\n",
              "      <td>141.0</td>\n",
              "      <td>360.0</td>\n",
              "      <td>1.0</td>\n",
              "      <td>Urban</td>\n",
              "      <td>Y</td>\n",
              "    </tr>\n",
              "  </tbody>\n",
              "</table>\n",
              "</div>"
            ],
            "text/plain": [
              "    Loan_ID Gender Married  ... Credit_History Property_Area Loan_Status\n",
              "0  LP001002   Male      No  ...            1.0         Urban           Y\n",
              "1  LP001003   Male     Yes  ...            1.0         Rural           N\n",
              "2  LP001005   Male     Yes  ...            1.0         Urban           Y\n",
              "3  LP001006   Male     Yes  ...            1.0         Urban           Y\n",
              "4  LP001008   Male      No  ...            1.0         Urban           Y\n",
              "\n",
              "[5 rows x 13 columns]"
            ]
          },
          "metadata": {
            "tags": []
          },
          "execution_count": 350
        }
      ]
    },
    {
      "cell_type": "markdown",
      "metadata": {
        "id": "-fRtfwUDEaQA",
        "colab_type": "text"
      },
      "source": [
        "## *Looking into the data*"
      ]
    },
    {
      "cell_type": "code",
      "metadata": {
        "id": "Ftj971ulEUEn",
        "colab_type": "code",
        "colab": {
          "base_uri": "https://localhost:8080/",
          "height": 357
        },
        "outputId": "357f1f63-c152-4107-b527-962f33ea5275"
      },
      "source": [
        "df.info()"
      ],
      "execution_count": 351,
      "outputs": [
        {
          "output_type": "stream",
          "text": [
            "<class 'pandas.core.frame.DataFrame'>\n",
            "RangeIndex: 614 entries, 0 to 613\n",
            "Data columns (total 13 columns):\n",
            " #   Column             Non-Null Count  Dtype  \n",
            "---  ------             --------------  -----  \n",
            " 0   Loan_ID            614 non-null    object \n",
            " 1   Gender             601 non-null    object \n",
            " 2   Married            611 non-null    object \n",
            " 3   Dependents         599 non-null    object \n",
            " 4   Education          614 non-null    object \n",
            " 5   Self_Employed      582 non-null    object \n",
            " 6   ApplicantIncome    614 non-null    int64  \n",
            " 7   CoapplicantIncome  614 non-null    float64\n",
            " 8   LoanAmount         592 non-null    float64\n",
            " 9   Loan_Amount_Term   600 non-null    float64\n",
            " 10  Credit_History     564 non-null    float64\n",
            " 11  Property_Area      614 non-null    object \n",
            " 12  Loan_Status        614 non-null    object \n",
            "dtypes: float64(4), int64(1), object(8)\n",
            "memory usage: 62.5+ KB\n"
          ],
          "name": "stdout"
        }
      ]
    },
    {
      "cell_type": "code",
      "metadata": {
        "id": "elxn1OvJEo6M",
        "colab_type": "code",
        "colab": {
          "base_uri": "https://localhost:8080/",
          "height": 34
        },
        "outputId": "1087f6d0-6391-4806-c1b4-8b79444fb7d3"
      },
      "source": [
        "df.shape"
      ],
      "execution_count": 352,
      "outputs": [
        {
          "output_type": "execute_result",
          "data": {
            "text/plain": [
              "(614, 13)"
            ]
          },
          "metadata": {
            "tags": []
          },
          "execution_count": 352
        }
      ]
    },
    {
      "cell_type": "markdown",
      "metadata": {
        "id": "0PPzwnKCEwfd",
        "colab_type": "text"
      },
      "source": [
        "## *Dividing the data into input features and target variables*"
      ]
    },
    {
      "cell_type": "code",
      "metadata": {
        "id": "10X-0RhUEql9",
        "colab_type": "code",
        "colab": {}
      },
      "source": [
        "y = df['Loan_Status']\n",
        "X = df.drop(['Loan_Status', 'Loan_ID'], axis=1)"
      ],
      "execution_count": 353,
      "outputs": []
    },
    {
      "cell_type": "code",
      "metadata": {
        "id": "l_CgFqszHZ5O",
        "colab_type": "code",
        "colab": {
          "base_uri": "https://localhost:8080/",
          "height": 51
        },
        "outputId": "f3c59cfe-51b8-41e0-a338-e5474e3daba9"
      },
      "source": [
        "print(X.shape)\n",
        "print(y.shape)"
      ],
      "execution_count": 354,
      "outputs": [
        {
          "output_type": "stream",
          "text": [
            "(614, 11)\n",
            "(614,)\n"
          ],
          "name": "stdout"
        }
      ]
    },
    {
      "cell_type": "markdown",
      "metadata": {
        "id": "KSLGLsN8IIrn",
        "colab_type": "text"
      },
      "source": [
        "## *From now on we will work only on training set*\n",
        "## *Lets check for Null Values*"
      ]
    },
    {
      "cell_type": "code",
      "metadata": {
        "id": "rrOEMjF2ICZW",
        "colab_type": "code",
        "colab": {
          "base_uri": "https://localhost:8080/",
          "height": 238
        },
        "outputId": "8919e23a-9bd4-40f6-cda4-4bbf8f41b71f"
      },
      "source": [
        "print(X.isnull().sum())\n",
        "print(y.isnull().sum())"
      ],
      "execution_count": 355,
      "outputs": [
        {
          "output_type": "stream",
          "text": [
            "Gender               13\n",
            "Married               3\n",
            "Dependents           15\n",
            "Education             0\n",
            "Self_Employed        32\n",
            "ApplicantIncome       0\n",
            "CoapplicantIncome     0\n",
            "LoanAmount           22\n",
            "Loan_Amount_Term     14\n",
            "Credit_History       50\n",
            "Property_Area         0\n",
            "dtype: int64\n",
            "0\n"
          ],
          "name": "stdout"
        }
      ]
    },
    {
      "cell_type": "code",
      "metadata": {
        "id": "wK-LAlBzIjd2",
        "colab_type": "code",
        "colab": {}
      },
      "source": [
        "# So some features of training set has indeed Null Values\n",
        "# Some features are Numerical whereas some are Categorical\n",
        "# We need to deal with it accordingly"
      ],
      "execution_count": 356,
      "outputs": []
    },
    {
      "cell_type": "code",
      "metadata": {
        "id": "IZOT2WC9IqD2",
        "colab_type": "code",
        "colab": {}
      },
      "source": [
        "X['ApplicantIncome'].fillna(X['ApplicantIncome'].median(), inplace=True)\n",
        "X['CoapplicantIncome'].fillna(X['CoapplicantIncome'].median(), inplace=True)\n",
        "X['LoanAmount'].fillna(X['LoanAmount'].median(), inplace=True)\n",
        "X['Loan_Amount_Term'].fillna(X['Loan_Amount_Term'].median(), inplace=True)\n",
        "X['Credit_History'].fillna(X['Credit_History'].median(), inplace=True)"
      ],
      "execution_count": 357,
      "outputs": []
    },
    {
      "cell_type": "code",
      "metadata": {
        "id": "We36tDD9UZoo",
        "colab_type": "code",
        "colab": {
          "base_uri": "https://localhost:8080/",
          "height": 221
        },
        "outputId": "05932d9c-ec92-45e3-b91f-b85bdd5d121e"
      },
      "source": [
        "X.isnull().sum()\n",
        "# Looking at the numerical features we see there's no null values now"
      ],
      "execution_count": 358,
      "outputs": [
        {
          "output_type": "execute_result",
          "data": {
            "text/plain": [
              "Gender               13\n",
              "Married               3\n",
              "Dependents           15\n",
              "Education             0\n",
              "Self_Employed        32\n",
              "ApplicantIncome       0\n",
              "CoapplicantIncome     0\n",
              "LoanAmount            0\n",
              "Loan_Amount_Term      0\n",
              "Credit_History        0\n",
              "Property_Area         0\n",
              "dtype: int64"
            ]
          },
          "metadata": {
            "tags": []
          },
          "execution_count": 358
        }
      ]
    },
    {
      "cell_type": "code",
      "metadata": {
        "id": "UXHz-CgqVdeu",
        "colab_type": "code",
        "colab": {}
      },
      "source": [
        "# Lets do the same with categorical features\n",
        "X['Gender'].fillna(X['Gender'].mode()[0], inplace=True)\n",
        "X['Married'].fillna(X['Married'].mode()[0], inplace=True)\n",
        "X['Dependents'].fillna(X['Dependents'].mode()[0], inplace=True)\n",
        "X['Self_Employed'].fillna(X['Self_Employed'].mode()[0], inplace=True)"
      ],
      "execution_count": 359,
      "outputs": []
    },
    {
      "cell_type": "code",
      "metadata": {
        "id": "e2B6eKZbV7vc",
        "colab_type": "code",
        "colab": {
          "base_uri": "https://localhost:8080/",
          "height": 221
        },
        "outputId": "c33d5849-2bac-418f-cecc-364870cbf795"
      },
      "source": [
        "X.isnull().sum()"
      ],
      "execution_count": 360,
      "outputs": [
        {
          "output_type": "execute_result",
          "data": {
            "text/plain": [
              "Gender               0\n",
              "Married              0\n",
              "Dependents           0\n",
              "Education            0\n",
              "Self_Employed        0\n",
              "ApplicantIncome      0\n",
              "CoapplicantIncome    0\n",
              "LoanAmount           0\n",
              "Loan_Amount_Term     0\n",
              "Credit_History       0\n",
              "Property_Area        0\n",
              "dtype: int64"
            ]
          },
          "metadata": {
            "tags": []
          },
          "execution_count": 360
        }
      ]
    },
    {
      "cell_type": "code",
      "metadata": {
        "id": "yzH6QIw6V-us",
        "colab_type": "code",
        "colab": {}
      },
      "source": [
        "# So no Null Values in our training input set"
      ],
      "execution_count": 361,
      "outputs": []
    },
    {
      "cell_type": "markdown",
      "metadata": {
        "id": "iKEG4NfpigA_",
        "colab_type": "text"
      },
      "source": [
        "## *Changing Categorical Features into Numerical Features*"
      ]
    },
    {
      "cell_type": "code",
      "metadata": {
        "id": "XlG17fajWEG0",
        "colab_type": "code",
        "colab": {}
      },
      "source": [
        "X['Gender'] = X['Gender'].map({'Male':0, 'Female':1})     \n",
        "\n",
        "#Doing the same thing for every other Categorical features"
      ],
      "execution_count": 362,
      "outputs": []
    },
    {
      "cell_type": "code",
      "metadata": {
        "id": "ZWgw3Gl2jrvr",
        "colab_type": "code",
        "colab": {}
      },
      "source": [
        "X['Married'] = X['Married'].map({'No':0, 'Yes':1})\n",
        "X['Dependents'] = X['Dependents'].map({'0':0, '1':1, '2':2, '3+':3})\n",
        "X['Education'] = X['Education'].map({'Graduate':1, 'Not Graduate':0})\n",
        "X['Self_Employed'] = X['Self_Employed'].map({'No':0, 'Yes':1})\n",
        "X['Property_Area'] = X['Property_Area'].map({'Rural':0, 'Semiurban':1, 'Urban':2})"
      ],
      "execution_count": 363,
      "outputs": []
    },
    {
      "cell_type": "code",
      "metadata": {
        "id": "AYzw39zYj0D5",
        "colab_type": "code",
        "colab": {
          "base_uri": "https://localhost:8080/",
          "height": 204
        },
        "outputId": "74a79119-1d13-485a-8846-ac3acd5d71b6"
      },
      "source": [
        "X.head()\n",
        "\n",
        "#Categorical features for X_train has been converted to numerical"
      ],
      "execution_count": 364,
      "outputs": [
        {
          "output_type": "execute_result",
          "data": {
            "text/html": [
              "<div>\n",
              "<style scoped>\n",
              "    .dataframe tbody tr th:only-of-type {\n",
              "        vertical-align: middle;\n",
              "    }\n",
              "\n",
              "    .dataframe tbody tr th {\n",
              "        vertical-align: top;\n",
              "    }\n",
              "\n",
              "    .dataframe thead th {\n",
              "        text-align: right;\n",
              "    }\n",
              "</style>\n",
              "<table border=\"1\" class=\"dataframe\">\n",
              "  <thead>\n",
              "    <tr style=\"text-align: right;\">\n",
              "      <th></th>\n",
              "      <th>Gender</th>\n",
              "      <th>Married</th>\n",
              "      <th>Dependents</th>\n",
              "      <th>Education</th>\n",
              "      <th>Self_Employed</th>\n",
              "      <th>ApplicantIncome</th>\n",
              "      <th>CoapplicantIncome</th>\n",
              "      <th>LoanAmount</th>\n",
              "      <th>Loan_Amount_Term</th>\n",
              "      <th>Credit_History</th>\n",
              "      <th>Property_Area</th>\n",
              "    </tr>\n",
              "  </thead>\n",
              "  <tbody>\n",
              "    <tr>\n",
              "      <th>0</th>\n",
              "      <td>0</td>\n",
              "      <td>0</td>\n",
              "      <td>0</td>\n",
              "      <td>1</td>\n",
              "      <td>0</td>\n",
              "      <td>5849</td>\n",
              "      <td>0.0</td>\n",
              "      <td>128.0</td>\n",
              "      <td>360.0</td>\n",
              "      <td>1.0</td>\n",
              "      <td>2</td>\n",
              "    </tr>\n",
              "    <tr>\n",
              "      <th>1</th>\n",
              "      <td>0</td>\n",
              "      <td>1</td>\n",
              "      <td>1</td>\n",
              "      <td>1</td>\n",
              "      <td>0</td>\n",
              "      <td>4583</td>\n",
              "      <td>1508.0</td>\n",
              "      <td>128.0</td>\n",
              "      <td>360.0</td>\n",
              "      <td>1.0</td>\n",
              "      <td>0</td>\n",
              "    </tr>\n",
              "    <tr>\n",
              "      <th>2</th>\n",
              "      <td>0</td>\n",
              "      <td>1</td>\n",
              "      <td>0</td>\n",
              "      <td>1</td>\n",
              "      <td>1</td>\n",
              "      <td>3000</td>\n",
              "      <td>0.0</td>\n",
              "      <td>66.0</td>\n",
              "      <td>360.0</td>\n",
              "      <td>1.0</td>\n",
              "      <td>2</td>\n",
              "    </tr>\n",
              "    <tr>\n",
              "      <th>3</th>\n",
              "      <td>0</td>\n",
              "      <td>1</td>\n",
              "      <td>0</td>\n",
              "      <td>0</td>\n",
              "      <td>0</td>\n",
              "      <td>2583</td>\n",
              "      <td>2358.0</td>\n",
              "      <td>120.0</td>\n",
              "      <td>360.0</td>\n",
              "      <td>1.0</td>\n",
              "      <td>2</td>\n",
              "    </tr>\n",
              "    <tr>\n",
              "      <th>4</th>\n",
              "      <td>0</td>\n",
              "      <td>0</td>\n",
              "      <td>0</td>\n",
              "      <td>1</td>\n",
              "      <td>0</td>\n",
              "      <td>6000</td>\n",
              "      <td>0.0</td>\n",
              "      <td>141.0</td>\n",
              "      <td>360.0</td>\n",
              "      <td>1.0</td>\n",
              "      <td>2</td>\n",
              "    </tr>\n",
              "  </tbody>\n",
              "</table>\n",
              "</div>"
            ],
            "text/plain": [
              "   Gender  Married  Dependents  ...  Loan_Amount_Term  Credit_History  Property_Area\n",
              "0       0        0           0  ...             360.0             1.0              2\n",
              "1       0        1           1  ...             360.0             1.0              0\n",
              "2       0        1           0  ...             360.0             1.0              2\n",
              "3       0        1           0  ...             360.0             1.0              2\n",
              "4       0        0           0  ...             360.0             1.0              2\n",
              "\n",
              "[5 rows x 11 columns]"
            ]
          },
          "metadata": {
            "tags": []
          },
          "execution_count": 364
        }
      ]
    },
    {
      "cell_type": "code",
      "metadata": {
        "id": "M3d-u4qZoONS",
        "colab_type": "code",
        "colab": {}
      },
      "source": [
        "y = y.map({'Y':1, 'N':0})\n",
        "\n",
        "#Categorical feature in the y_train is now converted into numerical"
      ],
      "execution_count": 365,
      "outputs": []
    },
    {
      "cell_type": "code",
      "metadata": {
        "id": "0BA-8BTwoWqA",
        "colab_type": "code",
        "colab": {
          "base_uri": "https://localhost:8080/",
          "height": 221
        },
        "outputId": "54264375-e2be-49d3-b6b2-376c96e26a16"
      },
      "source": [
        "y"
      ],
      "execution_count": 366,
      "outputs": [
        {
          "output_type": "execute_result",
          "data": {
            "text/plain": [
              "0      1\n",
              "1      0\n",
              "2      1\n",
              "3      1\n",
              "4      1\n",
              "      ..\n",
              "609    1\n",
              "610    1\n",
              "611    1\n",
              "612    1\n",
              "613    0\n",
              "Name: Loan_Status, Length: 614, dtype: int64"
            ]
          },
          "metadata": {
            "tags": []
          },
          "execution_count": 366
        }
      ]
    },
    {
      "cell_type": "code",
      "metadata": {
        "colab_type": "code",
        "id": "Wgh3SLTYIjDI",
        "colab": {}
      },
      "source": [
        "from sklearn.model_selection import train_test_split\n",
        "X_train, X_test, y_train, y_test = train_test_split(X, y, test_size=0.2, random_state=10)"
      ],
      "execution_count": 367,
      "outputs": []
    },
    {
      "cell_type": "code",
      "metadata": {
        "id": "1LVmV9HHIrNd",
        "colab_type": "code",
        "colab": {
          "base_uri": "https://localhost:8080/",
          "height": 85
        },
        "outputId": "079d3c65-4e1f-41df-84b1-7effac3fd805"
      },
      "source": [
        "print(X_train.shape)\n",
        "print(X_test.shape)\n",
        "print(y_train.shape)\n",
        "print(y_test.shape)"
      ],
      "execution_count": 368,
      "outputs": [
        {
          "output_type": "stream",
          "text": [
            "(491, 11)\n",
            "(123, 11)\n",
            "(491,)\n",
            "(123,)\n"
          ],
          "name": "stdout"
        }
      ]
    },
    {
      "cell_type": "markdown",
      "metadata": {
        "id": "KMv8614Y2_4K",
        "colab_type": "text"
      },
      "source": [
        "## *Defining the Neural Network Model for the problem*"
      ]
    },
    {
      "cell_type": "code",
      "metadata": {
        "id": "NOYYpk4Go62p",
        "colab_type": "code",
        "colab": {
          "base_uri": "https://localhost:8080/",
          "height": 35
        },
        "outputId": "24f0062d-eb72-4693-ff1a-584c1ecbfd6e"
      },
      "source": [
        "# We will use Keras to define our model. So lets import that\n",
        "import keras\n",
        "keras.__version__"
      ],
      "execution_count": 369,
      "outputs": [
        {
          "output_type": "execute_result",
          "data": {
            "application/vnd.google.colaboratory.intrinsic+json": {
              "type": "string"
            },
            "text/plain": [
              "'2.4.3'"
            ]
          },
          "metadata": {
            "tags": []
          },
          "execution_count": 369
        }
      ]
    },
    {
      "cell_type": "code",
      "metadata": {
        "id": "s_EviGSI3QYy",
        "colab_type": "code",
        "colab": {
          "base_uri": "https://localhost:8080/",
          "height": 35
        },
        "outputId": "33985a81-42dd-41b9-e6b2-a6a69dcefab6"
      },
      "source": [
        "# We will also use Tensorflow at the backend. So lets imprt that also\n",
        "import tensorflow as tf\n",
        "tf.__version__"
      ],
      "execution_count": 370,
      "outputs": [
        {
          "output_type": "execute_result",
          "data": {
            "application/vnd.google.colaboratory.intrinsic+json": {
              "type": "string"
            },
            "text/plain": [
              "'2.3.0'"
            ]
          },
          "metadata": {
            "tags": []
          },
          "execution_count": 370
        }
      ]
    },
    {
      "cell_type": "code",
      "metadata": {
        "id": "nzK9Y5Cg3gDi",
        "colab_type": "code",
        "colab": {
          "base_uri": "https://localhost:8080/",
          "height": 34
        },
        "outputId": "c876d7ab-ff83-4afb-d1fa-00864c0f0e6d"
      },
      "source": [
        "X_train.shape"
      ],
      "execution_count": 371,
      "outputs": [
        {
          "output_type": "execute_result",
          "data": {
            "text/plain": [
              "(491, 11)"
            ]
          },
          "metadata": {
            "tags": []
          },
          "execution_count": 371
        }
      ]
    },
    {
      "cell_type": "code",
      "metadata": {
        "id": "ZF_VEcQV7pV-",
        "colab_type": "code",
        "colab": {}
      },
      "source": [
        "from keras import models\n",
        "from keras import layers"
      ],
      "execution_count": 372,
      "outputs": []
    },
    {
      "cell_type": "code",
      "metadata": {
        "id": "uVrzUaZd8XaE",
        "colab_type": "code",
        "colab": {}
      },
      "source": [
        "# No. of Neurons in Input Layer = 12 (bcz X_train has 12 features)\n",
        "# No. of Hidden Layers set to 2\n",
        "# 1st Hidden Layer consists of 12 neurons\n",
        "# 2nd Hidden Layer consists of 6 Neurons\n",
        "# Finally Output Layer cosnsits of 1 Neuron bcz its a Binary Classfication Problem i.e. Yes/No\n",
        "\n",
        "model = models.Sequential()\n",
        "model.add(layers.InputLayer(input_shape = (11,)))\n",
        "model.add(layers.Dense(10, activation='relu'))\n",
        "model.add(layers.Dense(6, activation='relu'))\n",
        "model.add(layers.Dense(3, activation='relu'))\n",
        "model.add(layers.Dense(1, activation='sigmoid'))"
      ],
      "execution_count": 373,
      "outputs": []
    },
    {
      "cell_type": "code",
      "metadata": {
        "id": "Az4Bol5p-o8T",
        "colab_type": "code",
        "colab": {
          "base_uri": "https://localhost:8080/",
          "height": 289
        },
        "outputId": "a3cd206b-8177-4dff-89ec-3451b6c1d4a0"
      },
      "source": [
        "model.summary()"
      ],
      "execution_count": 374,
      "outputs": [
        {
          "output_type": "stream",
          "text": [
            "Model: \"sequential_13\"\n",
            "_________________________________________________________________\n",
            "Layer (type)                 Output Shape              Param #   \n",
            "=================================================================\n",
            "dense_40 (Dense)             (None, 10)                120       \n",
            "_________________________________________________________________\n",
            "dense_41 (Dense)             (None, 6)                 66        \n",
            "_________________________________________________________________\n",
            "dense_42 (Dense)             (None, 3)                 21        \n",
            "_________________________________________________________________\n",
            "dense_43 (Dense)             (None, 1)                 4         \n",
            "=================================================================\n",
            "Total params: 211\n",
            "Trainable params: 211\n",
            "Non-trainable params: 0\n",
            "_________________________________________________________________\n"
          ],
          "name": "stdout"
        }
      ]
    },
    {
      "cell_type": "markdown",
      "metadata": {
        "id": "iQUmNGjrAnGB",
        "colab_type": "text"
      },
      "source": [
        "## *Compiling the Model*"
      ]
    },
    {
      "cell_type": "code",
      "metadata": {
        "id": "-EaNMpFx-r5p",
        "colab_type": "code",
        "colab": {}
      },
      "source": [
        "model.compile(loss='binary_crossentropy', optimizer='Adam', metrics=['accuracy'])"
      ],
      "execution_count": 375,
      "outputs": []
    },
    {
      "cell_type": "markdown",
      "metadata": {
        "id": "y2YMOpqAAua4",
        "colab_type": "text"
      },
      "source": [
        "#### *Creating a Validation Data Set*"
      ]
    },
    {
      "cell_type": "code",
      "metadata": {
        "id": "Va7EeL9TA40K",
        "colab_type": "code",
        "colab": {}
      },
      "source": [
        ""
      ],
      "execution_count": 375,
      "outputs": []
    },
    {
      "cell_type": "markdown",
      "metadata": {
        "id": "EIu2GI96CGzj",
        "colab_type": "text"
      },
      "source": [
        "## *Training our Model*"
      ]
    },
    {
      "cell_type": "code",
      "metadata": {
        "id": "Ot4TXOSACEpd",
        "colab_type": "code",
        "colab": {
          "base_uri": "https://localhost:8080/",
          "height": 1000
        },
        "outputId": "c14d0463-8946-452a-c607-3c351fb80536"
      },
      "source": [
        "history = model.fit(X_train, y_train, epochs=30, validation_data=(X_test, y_test))"
      ],
      "execution_count": 376,
      "outputs": [
        {
          "output_type": "stream",
          "text": [
            "Epoch 1/30\n",
            "16/16 [==============================] - 0s 15ms/step - loss: 477.7639 - accuracy: 0.3177 - val_loss: 341.9376 - val_accuracy: 0.2927\n",
            "Epoch 2/30\n",
            "16/16 [==============================] - 0s 4ms/step - loss: 339.0220 - accuracy: 0.3177 - val_loss: 224.0339 - val_accuracy: 0.2927\n",
            "Epoch 3/30\n",
            "16/16 [==============================] - 0s 4ms/step - loss: 212.5187 - accuracy: 0.3136 - val_loss: 114.2342 - val_accuracy: 0.3821\n",
            "Epoch 4/30\n",
            "16/16 [==============================] - 0s 4ms/step - loss: 109.4170 - accuracy: 0.3849 - val_loss: 13.7163 - val_accuracy: 0.6016\n",
            "Epoch 5/30\n",
            "16/16 [==============================] - 0s 5ms/step - loss: 15.7739 - accuracy: 0.5825 - val_loss: 0.9009 - val_accuracy: 0.6992\n",
            "Epoch 6/30\n",
            "16/16 [==============================] - 0s 4ms/step - loss: 5.8100 - accuracy: 0.6578 - val_loss: 0.6957 - val_accuracy: 0.6992\n",
            "Epoch 7/30\n",
            "16/16 [==============================] - 0s 4ms/step - loss: 3.0623 - accuracy: 0.6823 - val_loss: 0.6764 - val_accuracy: 0.7073\n",
            "Epoch 8/30\n",
            "16/16 [==============================] - 0s 5ms/step - loss: 1.6709 - accuracy: 0.6802 - val_loss: 0.6753 - val_accuracy: 0.7073\n",
            "Epoch 9/30\n",
            "16/16 [==============================] - 0s 4ms/step - loss: 1.5012 - accuracy: 0.6823 - val_loss: 0.7459 - val_accuracy: 0.6829\n",
            "Epoch 10/30\n",
            "16/16 [==============================] - 0s 4ms/step - loss: 0.7192 - accuracy: 0.6843 - val_loss: 0.7098 - val_accuracy: 0.6911\n",
            "Epoch 11/30\n",
            "16/16 [==============================] - 0s 4ms/step - loss: 0.6957 - accuracy: 0.6864 - val_loss: 0.6838 - val_accuracy: 0.6992\n",
            "Epoch 12/30\n",
            "16/16 [==============================] - 0s 4ms/step - loss: 0.6872 - accuracy: 0.6904 - val_loss: 0.6718 - val_accuracy: 0.6992\n",
            "Epoch 13/30\n",
            "16/16 [==============================] - 0s 4ms/step - loss: 0.6837 - accuracy: 0.6904 - val_loss: 0.6698 - val_accuracy: 0.7073\n",
            "Epoch 14/30\n",
            "16/16 [==============================] - 0s 5ms/step - loss: 0.6800 - accuracy: 0.6904 - val_loss: 0.6687 - val_accuracy: 0.7073\n",
            "Epoch 15/30\n",
            "16/16 [==============================] - 0s 4ms/step - loss: 0.6781 - accuracy: 0.6904 - val_loss: 0.6675 - val_accuracy: 0.7073\n",
            "Epoch 16/30\n",
            "16/16 [==============================] - 0s 4ms/step - loss: 0.6750 - accuracy: 0.6884 - val_loss: 0.6663 - val_accuracy: 0.7073\n",
            "Epoch 17/30\n",
            "16/16 [==============================] - 0s 5ms/step - loss: 0.6724 - accuracy: 0.6904 - val_loss: 0.6650 - val_accuracy: 0.7073\n",
            "Epoch 18/30\n",
            "16/16 [==============================] - 0s 5ms/step - loss: 0.6698 - accuracy: 0.6904 - val_loss: 0.6639 - val_accuracy: 0.7073\n",
            "Epoch 19/30\n",
            "16/16 [==============================] - 0s 4ms/step - loss: 0.6680 - accuracy: 0.6884 - val_loss: 0.6626 - val_accuracy: 0.7073\n",
            "Epoch 20/30\n",
            "16/16 [==============================] - 0s 5ms/step - loss: 0.6642 - accuracy: 0.6884 - val_loss: 0.6615 - val_accuracy: 0.7073\n",
            "Epoch 21/30\n",
            "16/16 [==============================] - 0s 6ms/step - loss: 0.6603 - accuracy: 0.6884 - val_loss: 0.6603 - val_accuracy: 0.7073\n",
            "Epoch 22/30\n",
            "16/16 [==============================] - 0s 5ms/step - loss: 0.6583 - accuracy: 0.6904 - val_loss: 0.6590 - val_accuracy: 0.7073\n",
            "Epoch 23/30\n",
            "16/16 [==============================] - 0s 5ms/step - loss: 0.6570 - accuracy: 0.6904 - val_loss: 0.6579 - val_accuracy: 0.7073\n",
            "Epoch 24/30\n",
            "16/16 [==============================] - 0s 5ms/step - loss: 0.6580 - accuracy: 0.6884 - val_loss: 0.6568 - val_accuracy: 0.7073\n",
            "Epoch 25/30\n",
            "16/16 [==============================] - 0s 5ms/step - loss: 0.6563 - accuracy: 0.6884 - val_loss: 0.6555 - val_accuracy: 0.7073\n",
            "Epoch 26/30\n",
            "16/16 [==============================] - 0s 5ms/step - loss: 0.6543 - accuracy: 0.6904 - val_loss: 0.6543 - val_accuracy: 0.7073\n",
            "Epoch 27/30\n",
            "16/16 [==============================] - 0s 5ms/step - loss: 0.6529 - accuracy: 0.6904 - val_loss: 0.6533 - val_accuracy: 0.7073\n",
            "Epoch 28/30\n",
            "16/16 [==============================] - 0s 4ms/step - loss: 0.6519 - accuracy: 0.6904 - val_loss: 0.6522 - val_accuracy: 0.7073\n",
            "Epoch 29/30\n",
            "16/16 [==============================] - 0s 4ms/step - loss: 0.6511 - accuracy: 0.6884 - val_loss: 0.6510 - val_accuracy: 0.7073\n",
            "Epoch 30/30\n",
            "16/16 [==============================] - 0s 4ms/step - loss: 0.6505 - accuracy: 0.6904 - val_loss: 0.6499 - val_accuracy: 0.7073\n"
          ],
          "name": "stdout"
        }
      ]
    },
    {
      "cell_type": "code",
      "metadata": {
        "id": "42PE5cQPDLPz",
        "colab_type": "code",
        "colab": {}
      },
      "source": [
        ""
      ],
      "execution_count": 376,
      "outputs": []
    }
  ]
}