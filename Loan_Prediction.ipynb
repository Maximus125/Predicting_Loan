{
  "nbformat": 4,
  "nbformat_minor": 0,
  "metadata": {
    "colab": {
      "name": "Loan_Prediction.ipynb",
      "provenance": [],
      "collapsed_sections": [],
      "toc_visible": true,
      "authorship_tag": "ABX9TyOYxnyNY/bMnkGaySOzvUlU",
      "include_colab_link": true
    },
    "kernelspec": {
      "name": "python3",
      "display_name": "Python 3"
    },
    "accelerator": "GPU"
  },
  "cells": [
    {
      "cell_type": "markdown",
      "metadata": {
        "id": "view-in-github",
        "colab_type": "text"
      },
      "source": [
        "<a href=\"https://colab.research.google.com/github/Maximus125/Predicting_Loan/blob/master/Loan_Prediction.ipynb\" target=\"_parent\"><img src=\"https://colab.research.google.com/assets/colab-badge.svg\" alt=\"Open In Colab\"/></a>"
      ]
    },
    {
      "cell_type": "code",
      "metadata": {
        "id": "jFKx1bxGD2KQ",
        "colab_type": "code",
        "colab": {}
      },
      "source": [
        "import numpy as np\n",
        "import pandas as pd\n",
        "import matplotlib.pyplot as plt"
      ],
      "execution_count": 1,
      "outputs": []
    },
    {
      "cell_type": "markdown",
      "metadata": {
        "id": "N2M5pezWEG4R",
        "colab_type": "text"
      },
      "source": [
        "## *Reading the data*"
      ]
    },
    {
      "cell_type": "code",
      "metadata": {
        "id": "DeIHw8EFEE3m",
        "colab_type": "code",
        "colab": {
          "base_uri": "https://localhost:8080/",
          "height": 204
        },
        "outputId": "48e199ee-dd8a-4e31-c5f8-8386ed8626e5"
      },
      "source": [
        "df = pd.read_csv('loan_data.csv')\n",
        "df.head()"
      ],
      "execution_count": 2,
      "outputs": [
        {
          "output_type": "execute_result",
          "data": {
            "text/html": [
              "<div>\n",
              "<style scoped>\n",
              "    .dataframe tbody tr th:only-of-type {\n",
              "        vertical-align: middle;\n",
              "    }\n",
              "\n",
              "    .dataframe tbody tr th {\n",
              "        vertical-align: top;\n",
              "    }\n",
              "\n",
              "    .dataframe thead th {\n",
              "        text-align: right;\n",
              "    }\n",
              "</style>\n",
              "<table border=\"1\" class=\"dataframe\">\n",
              "  <thead>\n",
              "    <tr style=\"text-align: right;\">\n",
              "      <th></th>\n",
              "      <th>Loan_ID</th>\n",
              "      <th>Gender</th>\n",
              "      <th>Married</th>\n",
              "      <th>Dependents</th>\n",
              "      <th>Education</th>\n",
              "      <th>Self_Employed</th>\n",
              "      <th>ApplicantIncome</th>\n",
              "      <th>CoapplicantIncome</th>\n",
              "      <th>LoanAmount</th>\n",
              "      <th>Loan_Amount_Term</th>\n",
              "      <th>Credit_History</th>\n",
              "      <th>Property_Area</th>\n",
              "      <th>Loan_Status</th>\n",
              "    </tr>\n",
              "  </thead>\n",
              "  <tbody>\n",
              "    <tr>\n",
              "      <th>0</th>\n",
              "      <td>LP001002</td>\n",
              "      <td>Male</td>\n",
              "      <td>No</td>\n",
              "      <td>0</td>\n",
              "      <td>Graduate</td>\n",
              "      <td>No</td>\n",
              "      <td>5849</td>\n",
              "      <td>0.0</td>\n",
              "      <td>NaN</td>\n",
              "      <td>360.0</td>\n",
              "      <td>1.0</td>\n",
              "      <td>Urban</td>\n",
              "      <td>Y</td>\n",
              "    </tr>\n",
              "    <tr>\n",
              "      <th>1</th>\n",
              "      <td>LP001003</td>\n",
              "      <td>Male</td>\n",
              "      <td>Yes</td>\n",
              "      <td>1</td>\n",
              "      <td>Graduate</td>\n",
              "      <td>No</td>\n",
              "      <td>4583</td>\n",
              "      <td>1508.0</td>\n",
              "      <td>128.0</td>\n",
              "      <td>360.0</td>\n",
              "      <td>1.0</td>\n",
              "      <td>Rural</td>\n",
              "      <td>N</td>\n",
              "    </tr>\n",
              "    <tr>\n",
              "      <th>2</th>\n",
              "      <td>LP001005</td>\n",
              "      <td>Male</td>\n",
              "      <td>Yes</td>\n",
              "      <td>0</td>\n",
              "      <td>Graduate</td>\n",
              "      <td>Yes</td>\n",
              "      <td>3000</td>\n",
              "      <td>0.0</td>\n",
              "      <td>66.0</td>\n",
              "      <td>360.0</td>\n",
              "      <td>1.0</td>\n",
              "      <td>Urban</td>\n",
              "      <td>Y</td>\n",
              "    </tr>\n",
              "    <tr>\n",
              "      <th>3</th>\n",
              "      <td>LP001006</td>\n",
              "      <td>Male</td>\n",
              "      <td>Yes</td>\n",
              "      <td>0</td>\n",
              "      <td>Not Graduate</td>\n",
              "      <td>No</td>\n",
              "      <td>2583</td>\n",
              "      <td>2358.0</td>\n",
              "      <td>120.0</td>\n",
              "      <td>360.0</td>\n",
              "      <td>1.0</td>\n",
              "      <td>Urban</td>\n",
              "      <td>Y</td>\n",
              "    </tr>\n",
              "    <tr>\n",
              "      <th>4</th>\n",
              "      <td>LP001008</td>\n",
              "      <td>Male</td>\n",
              "      <td>No</td>\n",
              "      <td>0</td>\n",
              "      <td>Graduate</td>\n",
              "      <td>No</td>\n",
              "      <td>6000</td>\n",
              "      <td>0.0</td>\n",
              "      <td>141.0</td>\n",
              "      <td>360.0</td>\n",
              "      <td>1.0</td>\n",
              "      <td>Urban</td>\n",
              "      <td>Y</td>\n",
              "    </tr>\n",
              "  </tbody>\n",
              "</table>\n",
              "</div>"
            ],
            "text/plain": [
              "    Loan_ID Gender Married  ... Credit_History Property_Area Loan_Status\n",
              "0  LP001002   Male      No  ...            1.0         Urban           Y\n",
              "1  LP001003   Male     Yes  ...            1.0         Rural           N\n",
              "2  LP001005   Male     Yes  ...            1.0         Urban           Y\n",
              "3  LP001006   Male     Yes  ...            1.0         Urban           Y\n",
              "4  LP001008   Male      No  ...            1.0         Urban           Y\n",
              "\n",
              "[5 rows x 13 columns]"
            ]
          },
          "metadata": {
            "tags": []
          },
          "execution_count": 2
        }
      ]
    },
    {
      "cell_type": "markdown",
      "metadata": {
        "id": "-fRtfwUDEaQA",
        "colab_type": "text"
      },
      "source": [
        "## *Looking into the data*"
      ]
    },
    {
      "cell_type": "code",
      "metadata": {
        "id": "Ftj971ulEUEn",
        "colab_type": "code",
        "colab": {
          "base_uri": "https://localhost:8080/",
          "height": 357
        },
        "outputId": "a12aa3d7-23e5-44a6-b46e-979b80cbe2ed"
      },
      "source": [
        "df.info()"
      ],
      "execution_count": 3,
      "outputs": [
        {
          "output_type": "stream",
          "text": [
            "<class 'pandas.core.frame.DataFrame'>\n",
            "RangeIndex: 614 entries, 0 to 613\n",
            "Data columns (total 13 columns):\n",
            " #   Column             Non-Null Count  Dtype  \n",
            "---  ------             --------------  -----  \n",
            " 0   Loan_ID            614 non-null    object \n",
            " 1   Gender             601 non-null    object \n",
            " 2   Married            611 non-null    object \n",
            " 3   Dependents         599 non-null    object \n",
            " 4   Education          614 non-null    object \n",
            " 5   Self_Employed      582 non-null    object \n",
            " 6   ApplicantIncome    614 non-null    int64  \n",
            " 7   CoapplicantIncome  614 non-null    float64\n",
            " 8   LoanAmount         592 non-null    float64\n",
            " 9   Loan_Amount_Term   600 non-null    float64\n",
            " 10  Credit_History     564 non-null    float64\n",
            " 11  Property_Area      614 non-null    object \n",
            " 12  Loan_Status        614 non-null    object \n",
            "dtypes: float64(4), int64(1), object(8)\n",
            "memory usage: 62.5+ KB\n"
          ],
          "name": "stdout"
        }
      ]
    },
    {
      "cell_type": "code",
      "metadata": {
        "id": "elxn1OvJEo6M",
        "colab_type": "code",
        "colab": {
          "base_uri": "https://localhost:8080/",
          "height": 34
        },
        "outputId": "c5ff135c-74ad-483a-8352-7677da3a8529"
      },
      "source": [
        "df.shape"
      ],
      "execution_count": 4,
      "outputs": [
        {
          "output_type": "execute_result",
          "data": {
            "text/plain": [
              "(614, 13)"
            ]
          },
          "metadata": {
            "tags": []
          },
          "execution_count": 4
        }
      ]
    },
    {
      "cell_type": "markdown",
      "metadata": {
        "id": "0PPzwnKCEwfd",
        "colab_type": "text"
      },
      "source": [
        "## *Dividing the data into input features and target variables*"
      ]
    },
    {
      "cell_type": "code",
      "metadata": {
        "id": "10X-0RhUEql9",
        "colab_type": "code",
        "colab": {}
      },
      "source": [
        "y = df['Loan_Status']\n",
        "X = df.drop(['Loan_Status', 'Loan_ID'], axis=1)"
      ],
      "execution_count": 5,
      "outputs": []
    },
    {
      "cell_type": "code",
      "metadata": {
        "id": "l_CgFqszHZ5O",
        "colab_type": "code",
        "colab": {
          "base_uri": "https://localhost:8080/",
          "height": 51
        },
        "outputId": "b9a9d3de-663a-49b9-99c9-1feb09714bae"
      },
      "source": [
        "print(X.shape)\n",
        "print(y.shape)"
      ],
      "execution_count": 6,
      "outputs": [
        {
          "output_type": "stream",
          "text": [
            "(614, 11)\n",
            "(614,)\n"
          ],
          "name": "stdout"
        }
      ]
    },
    {
      "cell_type": "markdown",
      "metadata": {
        "id": "KSLGLsN8IIrn",
        "colab_type": "text"
      },
      "source": [
        "## *Lets check for Null Values*"
      ]
    },
    {
      "cell_type": "code",
      "metadata": {
        "id": "rrOEMjF2ICZW",
        "colab_type": "code",
        "colab": {
          "base_uri": "https://localhost:8080/",
          "height": 238
        },
        "outputId": "3bebbf64-bcb4-47dc-b00e-85642788c9b6"
      },
      "source": [
        "print(X.isnull().sum())\n",
        "print(y.isnull().sum())"
      ],
      "execution_count": 7,
      "outputs": [
        {
          "output_type": "stream",
          "text": [
            "Gender               13\n",
            "Married               3\n",
            "Dependents           15\n",
            "Education             0\n",
            "Self_Employed        32\n",
            "ApplicantIncome       0\n",
            "CoapplicantIncome     0\n",
            "LoanAmount           22\n",
            "Loan_Amount_Term     14\n",
            "Credit_History       50\n",
            "Property_Area         0\n",
            "dtype: int64\n",
            "0\n"
          ],
          "name": "stdout"
        }
      ]
    },
    {
      "cell_type": "code",
      "metadata": {
        "id": "wK-LAlBzIjd2",
        "colab_type": "code",
        "colab": {}
      },
      "source": [
        "# So some features of training set has indeed Null Values\n",
        "# Some features are Numerical whereas some are Categorical\n",
        "# We need to deal with it accordingly"
      ],
      "execution_count": 8,
      "outputs": []
    },
    {
      "cell_type": "code",
      "metadata": {
        "id": "IZOT2WC9IqD2",
        "colab_type": "code",
        "colab": {}
      },
      "source": [
        "X['ApplicantIncome'].fillna(X['ApplicantIncome'].median(), inplace=True)\n",
        "X['CoapplicantIncome'].fillna(X['CoapplicantIncome'].median(), inplace=True)\n",
        "X['LoanAmount'].fillna(X['LoanAmount'].median(), inplace=True)\n",
        "X['Loan_Amount_Term'].fillna(X['Loan_Amount_Term'].median(), inplace=True)\n",
        "X['Credit_History'].fillna(X['Credit_History'].median(), inplace=True)"
      ],
      "execution_count": 9,
      "outputs": []
    },
    {
      "cell_type": "code",
      "metadata": {
        "id": "We36tDD9UZoo",
        "colab_type": "code",
        "colab": {
          "base_uri": "https://localhost:8080/",
          "height": 221
        },
        "outputId": "3dc64858-4660-447f-9971-79e511510efa"
      },
      "source": [
        "X.isnull().sum()\n",
        "# Looking at the numerical features we see there's no null values now"
      ],
      "execution_count": 10,
      "outputs": [
        {
          "output_type": "execute_result",
          "data": {
            "text/plain": [
              "Gender               13\n",
              "Married               3\n",
              "Dependents           15\n",
              "Education             0\n",
              "Self_Employed        32\n",
              "ApplicantIncome       0\n",
              "CoapplicantIncome     0\n",
              "LoanAmount            0\n",
              "Loan_Amount_Term      0\n",
              "Credit_History        0\n",
              "Property_Area         0\n",
              "dtype: int64"
            ]
          },
          "metadata": {
            "tags": []
          },
          "execution_count": 10
        }
      ]
    },
    {
      "cell_type": "code",
      "metadata": {
        "id": "UXHz-CgqVdeu",
        "colab_type": "code",
        "colab": {}
      },
      "source": [
        "# Lets do the same with categorical features\n",
        "X['Gender'].fillna(X['Gender'].mode()[0], inplace=True)\n",
        "X['Married'].fillna(X['Married'].mode()[0], inplace=True)\n",
        "X['Dependents'].fillna(X['Dependents'].mode()[0], inplace=True)\n",
        "X['Self_Employed'].fillna(X['Self_Employed'].mode()[0], inplace=True)"
      ],
      "execution_count": 11,
      "outputs": []
    },
    {
      "cell_type": "code",
      "metadata": {
        "id": "e2B6eKZbV7vc",
        "colab_type": "code",
        "colab": {
          "base_uri": "https://localhost:8080/",
          "height": 221
        },
        "outputId": "e3d70a6e-4077-45a8-dc24-95d99d832478"
      },
      "source": [
        "X.isnull().sum()"
      ],
      "execution_count": 12,
      "outputs": [
        {
          "output_type": "execute_result",
          "data": {
            "text/plain": [
              "Gender               0\n",
              "Married              0\n",
              "Dependents           0\n",
              "Education            0\n",
              "Self_Employed        0\n",
              "ApplicantIncome      0\n",
              "CoapplicantIncome    0\n",
              "LoanAmount           0\n",
              "Loan_Amount_Term     0\n",
              "Credit_History       0\n",
              "Property_Area        0\n",
              "dtype: int64"
            ]
          },
          "metadata": {
            "tags": []
          },
          "execution_count": 12
        }
      ]
    },
    {
      "cell_type": "code",
      "metadata": {
        "id": "yzH6QIw6V-us",
        "colab_type": "code",
        "colab": {}
      },
      "source": [
        "# So no Null Values in our input set"
      ],
      "execution_count": 13,
      "outputs": []
    },
    {
      "cell_type": "markdown",
      "metadata": {
        "id": "iKEG4NfpigA_",
        "colab_type": "text"
      },
      "source": [
        "## *Changing Categorical Features into Numerical Features*"
      ]
    },
    {
      "cell_type": "code",
      "metadata": {
        "id": "XlG17fajWEG0",
        "colab_type": "code",
        "colab": {}
      },
      "source": [
        "X['Gender'] = X['Gender'].map({'Male':0, 'Female':1})     \n",
        "\n",
        "#Doing the same thing for every other Categorical features"
      ],
      "execution_count": 14,
      "outputs": []
    },
    {
      "cell_type": "code",
      "metadata": {
        "id": "ZWgw3Gl2jrvr",
        "colab_type": "code",
        "colab": {}
      },
      "source": [
        "X['Married'] = X['Married'].map({'No':0, 'Yes':1})\n",
        "X['Dependents'] = X['Dependents'].map({'0':0, '1':1, '2':2, '3+':3})\n",
        "X['Education'] = X['Education'].map({'Graduate':1, 'Not Graduate':0})\n",
        "X['Self_Employed'] = X['Self_Employed'].map({'No':0, 'Yes':1})\n",
        "X['Property_Area'] = X['Property_Area'].map({'Rural':0, 'Semiurban':1, 'Urban':2})"
      ],
      "execution_count": 15,
      "outputs": []
    },
    {
      "cell_type": "code",
      "metadata": {
        "id": "AYzw39zYj0D5",
        "colab_type": "code",
        "colab": {
          "base_uri": "https://localhost:8080/",
          "height": 204
        },
        "outputId": "07982996-52ee-487a-e9c4-a4f5bd28b542"
      },
      "source": [
        "X.head()\n",
        "\n",
        "#Categorical features for X has been converted to numerical"
      ],
      "execution_count": 16,
      "outputs": [
        {
          "output_type": "execute_result",
          "data": {
            "text/html": [
              "<div>\n",
              "<style scoped>\n",
              "    .dataframe tbody tr th:only-of-type {\n",
              "        vertical-align: middle;\n",
              "    }\n",
              "\n",
              "    .dataframe tbody tr th {\n",
              "        vertical-align: top;\n",
              "    }\n",
              "\n",
              "    .dataframe thead th {\n",
              "        text-align: right;\n",
              "    }\n",
              "</style>\n",
              "<table border=\"1\" class=\"dataframe\">\n",
              "  <thead>\n",
              "    <tr style=\"text-align: right;\">\n",
              "      <th></th>\n",
              "      <th>Gender</th>\n",
              "      <th>Married</th>\n",
              "      <th>Dependents</th>\n",
              "      <th>Education</th>\n",
              "      <th>Self_Employed</th>\n",
              "      <th>ApplicantIncome</th>\n",
              "      <th>CoapplicantIncome</th>\n",
              "      <th>LoanAmount</th>\n",
              "      <th>Loan_Amount_Term</th>\n",
              "      <th>Credit_History</th>\n",
              "      <th>Property_Area</th>\n",
              "    </tr>\n",
              "  </thead>\n",
              "  <tbody>\n",
              "    <tr>\n",
              "      <th>0</th>\n",
              "      <td>0</td>\n",
              "      <td>0</td>\n",
              "      <td>0</td>\n",
              "      <td>1</td>\n",
              "      <td>0</td>\n",
              "      <td>5849</td>\n",
              "      <td>0.0</td>\n",
              "      <td>128.0</td>\n",
              "      <td>360.0</td>\n",
              "      <td>1.0</td>\n",
              "      <td>2</td>\n",
              "    </tr>\n",
              "    <tr>\n",
              "      <th>1</th>\n",
              "      <td>0</td>\n",
              "      <td>1</td>\n",
              "      <td>1</td>\n",
              "      <td>1</td>\n",
              "      <td>0</td>\n",
              "      <td>4583</td>\n",
              "      <td>1508.0</td>\n",
              "      <td>128.0</td>\n",
              "      <td>360.0</td>\n",
              "      <td>1.0</td>\n",
              "      <td>0</td>\n",
              "    </tr>\n",
              "    <tr>\n",
              "      <th>2</th>\n",
              "      <td>0</td>\n",
              "      <td>1</td>\n",
              "      <td>0</td>\n",
              "      <td>1</td>\n",
              "      <td>1</td>\n",
              "      <td>3000</td>\n",
              "      <td>0.0</td>\n",
              "      <td>66.0</td>\n",
              "      <td>360.0</td>\n",
              "      <td>1.0</td>\n",
              "      <td>2</td>\n",
              "    </tr>\n",
              "    <tr>\n",
              "      <th>3</th>\n",
              "      <td>0</td>\n",
              "      <td>1</td>\n",
              "      <td>0</td>\n",
              "      <td>0</td>\n",
              "      <td>0</td>\n",
              "      <td>2583</td>\n",
              "      <td>2358.0</td>\n",
              "      <td>120.0</td>\n",
              "      <td>360.0</td>\n",
              "      <td>1.0</td>\n",
              "      <td>2</td>\n",
              "    </tr>\n",
              "    <tr>\n",
              "      <th>4</th>\n",
              "      <td>0</td>\n",
              "      <td>0</td>\n",
              "      <td>0</td>\n",
              "      <td>1</td>\n",
              "      <td>0</td>\n",
              "      <td>6000</td>\n",
              "      <td>0.0</td>\n",
              "      <td>141.0</td>\n",
              "      <td>360.0</td>\n",
              "      <td>1.0</td>\n",
              "      <td>2</td>\n",
              "    </tr>\n",
              "  </tbody>\n",
              "</table>\n",
              "</div>"
            ],
            "text/plain": [
              "   Gender  Married  Dependents  ...  Loan_Amount_Term  Credit_History  Property_Area\n",
              "0       0        0           0  ...             360.0             1.0              2\n",
              "1       0        1           1  ...             360.0             1.0              0\n",
              "2       0        1           0  ...             360.0             1.0              2\n",
              "3       0        1           0  ...             360.0             1.0              2\n",
              "4       0        0           0  ...             360.0             1.0              2\n",
              "\n",
              "[5 rows x 11 columns]"
            ]
          },
          "metadata": {
            "tags": []
          },
          "execution_count": 16
        }
      ]
    },
    {
      "cell_type": "code",
      "metadata": {
        "id": "M3d-u4qZoONS",
        "colab_type": "code",
        "colab": {}
      },
      "source": [
        "y = y.map({'Y':1, 'N':0})\n",
        "\n",
        "#Categorical feature in the y is now converted into numerical"
      ],
      "execution_count": 17,
      "outputs": []
    },
    {
      "cell_type": "code",
      "metadata": {
        "id": "0BA-8BTwoWqA",
        "colab_type": "code",
        "colab": {
          "base_uri": "https://localhost:8080/",
          "height": 221
        },
        "outputId": "56de8eb5-ce46-4433-e568-b59b0a19ff22"
      },
      "source": [
        "y"
      ],
      "execution_count": 18,
      "outputs": [
        {
          "output_type": "execute_result",
          "data": {
            "text/plain": [
              "0      1\n",
              "1      0\n",
              "2      1\n",
              "3      1\n",
              "4      1\n",
              "      ..\n",
              "609    1\n",
              "610    1\n",
              "611    1\n",
              "612    1\n",
              "613    0\n",
              "Name: Loan_Status, Length: 614, dtype: int64"
            ]
          },
          "metadata": {
            "tags": []
          },
          "execution_count": 18
        }
      ]
    },
    {
      "cell_type": "markdown",
      "metadata": {
        "id": "8oCADNPUjdBi",
        "colab_type": "text"
      },
      "source": [
        "## *Splitting the datset into training and testing dataset*"
      ]
    },
    {
      "cell_type": "code",
      "metadata": {
        "colab_type": "code",
        "id": "Wgh3SLTYIjDI",
        "colab": {}
      },
      "source": [
        "from sklearn.model_selection import train_test_split\n",
        "X_train, X_test, y_train, y_test = train_test_split(X, y, test_size=0.2, random_state=10)"
      ],
      "execution_count": 19,
      "outputs": []
    },
    {
      "cell_type": "code",
      "metadata": {
        "id": "1LVmV9HHIrNd",
        "colab_type": "code",
        "colab": {
          "base_uri": "https://localhost:8080/",
          "height": 85
        },
        "outputId": "112f21ee-12dc-42e5-8f4a-a00e66efd3a9"
      },
      "source": [
        "print(X_train.shape)\n",
        "print(X_test.shape)\n",
        "print(y_train.shape)\n",
        "print(y_test.shape)"
      ],
      "execution_count": 20,
      "outputs": [
        {
          "output_type": "stream",
          "text": [
            "(491, 11)\n",
            "(123, 11)\n",
            "(491,)\n",
            "(123,)\n"
          ],
          "name": "stdout"
        }
      ]
    },
    {
      "cell_type": "markdown",
      "metadata": {
        "id": "KMv8614Y2_4K",
        "colab_type": "text"
      },
      "source": [
        "## *Defining the Neural Network Model for the problem*"
      ]
    },
    {
      "cell_type": "code",
      "metadata": {
        "id": "NOYYpk4Go62p",
        "colab_type": "code",
        "colab": {
          "base_uri": "https://localhost:8080/",
          "height": 35
        },
        "outputId": "f195ad7f-faad-4750-e056-0729ba617182"
      },
      "source": [
        "# We will use Keras to define our model. So lets import that\n",
        "import keras\n",
        "keras.__version__"
      ],
      "execution_count": 21,
      "outputs": [
        {
          "output_type": "execute_result",
          "data": {
            "application/vnd.google.colaboratory.intrinsic+json": {
              "type": "string"
            },
            "text/plain": [
              "'2.4.3'"
            ]
          },
          "metadata": {
            "tags": []
          },
          "execution_count": 21
        }
      ]
    },
    {
      "cell_type": "code",
      "metadata": {
        "id": "s_EviGSI3QYy",
        "colab_type": "code",
        "colab": {
          "base_uri": "https://localhost:8080/",
          "height": 35
        },
        "outputId": "eed4aaff-d329-4660-c086-149945a873bc"
      },
      "source": [
        "# We will also use Tensorflow at the backend. So lets imprt that also\n",
        "import tensorflow as tf\n",
        "tf.__version__"
      ],
      "execution_count": 22,
      "outputs": [
        {
          "output_type": "execute_result",
          "data": {
            "application/vnd.google.colaboratory.intrinsic+json": {
              "type": "string"
            },
            "text/plain": [
              "'2.3.0'"
            ]
          },
          "metadata": {
            "tags": []
          },
          "execution_count": 22
        }
      ]
    },
    {
      "cell_type": "code",
      "metadata": {
        "id": "nzK9Y5Cg3gDi",
        "colab_type": "code",
        "colab": {
          "base_uri": "https://localhost:8080/",
          "height": 34
        },
        "outputId": "6bbef17b-691e-41c7-8fef-03fee88eaa88"
      },
      "source": [
        "X_train.shape"
      ],
      "execution_count": 23,
      "outputs": [
        {
          "output_type": "execute_result",
          "data": {
            "text/plain": [
              "(491, 11)"
            ]
          },
          "metadata": {
            "tags": []
          },
          "execution_count": 23
        }
      ]
    },
    {
      "cell_type": "code",
      "metadata": {
        "id": "ZF_VEcQV7pV-",
        "colab_type": "code",
        "colab": {}
      },
      "source": [
        "from keras import models\n",
        "from keras import layers"
      ],
      "execution_count": 24,
      "outputs": []
    },
    {
      "cell_type": "code",
      "metadata": {
        "id": "uVrzUaZd8XaE",
        "colab_type": "code",
        "colab": {}
      },
      "source": [
        "# No. of Neurons in Input Layer = 12 (bcz X_train has 12 features)\n",
        "# No. of Hidden Layers set to 2\n",
        "# 1st Hidden Layer consists of 12 neurons\n",
        "# 2nd Hidden Layer consists of 6 Neurons\n",
        "# Finally Output Layer cosnsits of 1 Neuron bcz its a Binary Classfication Problem i.e. Yes/No\n",
        "\n",
        "model = models.Sequential()\n",
        "model.add(layers.InputLayer(input_shape = (11,)))\n",
        "model.add(layers.Dense(8, activation='relu'))\n",
        "model.add(layers.Dense(5, activation='relu'))\n",
        "model.add(layers.Dense(3, activation='relu'))\n",
        "model.add(layers.Dense(1, activation='sigmoid'))"
      ],
      "execution_count": 25,
      "outputs": []
    },
    {
      "cell_type": "code",
      "metadata": {
        "id": "Az4Bol5p-o8T",
        "colab_type": "code",
        "colab": {
          "base_uri": "https://localhost:8080/",
          "height": 289
        },
        "outputId": "6ee71e69-d257-49a5-9b86-359b189f8d3d"
      },
      "source": [
        "model.summary()"
      ],
      "execution_count": 26,
      "outputs": [
        {
          "output_type": "stream",
          "text": [
            "Model: \"sequential\"\n",
            "_________________________________________________________________\n",
            "Layer (type)                 Output Shape              Param #   \n",
            "=================================================================\n",
            "dense (Dense)                (None, 8)                 96        \n",
            "_________________________________________________________________\n",
            "dense_1 (Dense)              (None, 5)                 45        \n",
            "_________________________________________________________________\n",
            "dense_2 (Dense)              (None, 3)                 18        \n",
            "_________________________________________________________________\n",
            "dense_3 (Dense)              (None, 1)                 4         \n",
            "=================================================================\n",
            "Total params: 163\n",
            "Trainable params: 163\n",
            "Non-trainable params: 0\n",
            "_________________________________________________________________\n"
          ],
          "name": "stdout"
        }
      ]
    },
    {
      "cell_type": "markdown",
      "metadata": {
        "id": "iQUmNGjrAnGB",
        "colab_type": "text"
      },
      "source": [
        "## *Compiling the Model*"
      ]
    },
    {
      "cell_type": "code",
      "metadata": {
        "id": "-EaNMpFx-r5p",
        "colab_type": "code",
        "colab": {}
      },
      "source": [
        "model.compile(loss='binary_crossentropy', optimizer='rmsprop', metrics=['accuracy'])"
      ],
      "execution_count": 27,
      "outputs": []
    },
    {
      "cell_type": "markdown",
      "metadata": {
        "id": "EIu2GI96CGzj",
        "colab_type": "text"
      },
      "source": [
        "## *Training our Model*"
      ]
    },
    {
      "cell_type": "code",
      "metadata": {
        "id": "Ot4TXOSACEpd",
        "colab_type": "code",
        "colab": {
          "base_uri": "https://localhost:8080/",
          "height": 1000
        },
        "outputId": "113d5b0d-1354-401e-ea82-cffc72184aaf"
      },
      "source": [
        "history = model.fit(X_train, y_train, epochs=50, validation_data=(X_test, y_test))"
      ],
      "execution_count": 28,
      "outputs": [
        {
          "output_type": "stream",
          "text": [
            "Epoch 1/50\n",
            "16/16 [==============================] - 0s 16ms/step - loss: 449.8744 - accuracy: 0.3198 - val_loss: 307.4596 - val_accuracy: 0.2927\n",
            "Epoch 2/50\n",
            "16/16 [==============================] - 0s 5ms/step - loss: 313.9131 - accuracy: 0.3238 - val_loss: 212.2970 - val_accuracy: 0.3171\n",
            "Epoch 3/50\n",
            "16/16 [==============================] - 0s 5ms/step - loss: 209.3788 - accuracy: 0.3177 - val_loss: 132.2764 - val_accuracy: 0.3415\n",
            "Epoch 4/50\n",
            "16/16 [==============================] - 0s 5ms/step - loss: 125.1959 - accuracy: 0.4236 - val_loss: 74.5073 - val_accuracy: 0.4309\n",
            "Epoch 5/50\n",
            "16/16 [==============================] - 0s 5ms/step - loss: 65.6923 - accuracy: 0.4929 - val_loss: 32.3512 - val_accuracy: 0.4715\n",
            "Epoch 6/50\n",
            "16/16 [==============================] - 0s 6ms/step - loss: 22.2905 - accuracy: 0.5438 - val_loss: 2.0972 - val_accuracy: 0.6179\n",
            "Epoch 7/50\n",
            "16/16 [==============================] - 0s 5ms/step - loss: 1.0263 - accuracy: 0.6701 - val_loss: 0.6591 - val_accuracy: 0.7073\n",
            "Epoch 8/50\n",
            "16/16 [==============================] - 0s 5ms/step - loss: 0.6672 - accuracy: 0.6823 - val_loss: 0.6562 - val_accuracy: 0.7073\n",
            "Epoch 9/50\n",
            "16/16 [==============================] - 0s 5ms/step - loss: 0.6620 - accuracy: 0.6823 - val_loss: 0.6530 - val_accuracy: 0.7073\n",
            "Epoch 10/50\n",
            "16/16 [==============================] - 0s 5ms/step - loss: 0.6573 - accuracy: 0.6823 - val_loss: 0.6494 - val_accuracy: 0.7073\n",
            "Epoch 11/50\n",
            "16/16 [==============================] - 0s 5ms/step - loss: 0.6543 - accuracy: 0.6823 - val_loss: 0.6461 - val_accuracy: 0.7073\n",
            "Epoch 12/50\n",
            "16/16 [==============================] - 0s 4ms/step - loss: 0.6517 - accuracy: 0.6823 - val_loss: 0.6429 - val_accuracy: 0.7073\n",
            "Epoch 13/50\n",
            "16/16 [==============================] - 0s 5ms/step - loss: 0.6492 - accuracy: 0.6823 - val_loss: 0.6401 - val_accuracy: 0.7073\n",
            "Epoch 14/50\n",
            "16/16 [==============================] - 0s 5ms/step - loss: 0.6469 - accuracy: 0.6823 - val_loss: 0.6372 - val_accuracy: 0.7073\n",
            "Epoch 15/50\n",
            "16/16 [==============================] - 0s 5ms/step - loss: 0.6447 - accuracy: 0.6823 - val_loss: 0.6344 - val_accuracy: 0.7073\n",
            "Epoch 16/50\n",
            "16/16 [==============================] - 0s 5ms/step - loss: 0.6427 - accuracy: 0.6823 - val_loss: 0.6321 - val_accuracy: 0.7073\n",
            "Epoch 17/50\n",
            "16/16 [==============================] - 0s 5ms/step - loss: 0.6408 - accuracy: 0.6823 - val_loss: 0.6294 - val_accuracy: 0.7073\n",
            "Epoch 18/50\n",
            "16/16 [==============================] - 0s 6ms/step - loss: 0.6389 - accuracy: 0.6823 - val_loss: 0.6271 - val_accuracy: 0.7073\n",
            "Epoch 19/50\n",
            "16/16 [==============================] - 0s 5ms/step - loss: 0.6372 - accuracy: 0.6823 - val_loss: 0.6250 - val_accuracy: 0.7073\n",
            "Epoch 20/50\n",
            "16/16 [==============================] - 0s 5ms/step - loss: 0.6358 - accuracy: 0.6823 - val_loss: 0.6233 - val_accuracy: 0.7073\n",
            "Epoch 21/50\n",
            "16/16 [==============================] - 0s 5ms/step - loss: 0.6346 - accuracy: 0.6823 - val_loss: 0.6215 - val_accuracy: 0.7073\n",
            "Epoch 22/50\n",
            "16/16 [==============================] - 0s 6ms/step - loss: 0.6333 - accuracy: 0.6823 - val_loss: 0.6202 - val_accuracy: 0.7073\n",
            "Epoch 23/50\n",
            "16/16 [==============================] - 0s 5ms/step - loss: 0.6324 - accuracy: 0.6823 - val_loss: 0.6187 - val_accuracy: 0.7073\n",
            "Epoch 24/50\n",
            "16/16 [==============================] - 0s 5ms/step - loss: 0.6314 - accuracy: 0.6823 - val_loss: 0.6172 - val_accuracy: 0.7073\n",
            "Epoch 25/50\n",
            "16/16 [==============================] - 0s 5ms/step - loss: 0.6305 - accuracy: 0.6823 - val_loss: 0.6160 - val_accuracy: 0.7073\n",
            "Epoch 26/50\n",
            "16/16 [==============================] - 0s 6ms/step - loss: 0.6297 - accuracy: 0.6823 - val_loss: 0.6151 - val_accuracy: 0.7073\n",
            "Epoch 27/50\n",
            "16/16 [==============================] - 0s 5ms/step - loss: 0.6291 - accuracy: 0.6823 - val_loss: 0.6142 - val_accuracy: 0.7073\n",
            "Epoch 28/50\n",
            "16/16 [==============================] - 0s 4ms/step - loss: 0.6286 - accuracy: 0.6823 - val_loss: 0.6133 - val_accuracy: 0.7073\n",
            "Epoch 29/50\n",
            "16/16 [==============================] - 0s 5ms/step - loss: 0.6281 - accuracy: 0.6823 - val_loss: 0.6125 - val_accuracy: 0.7073\n",
            "Epoch 30/50\n",
            "16/16 [==============================] - 0s 4ms/step - loss: 0.6276 - accuracy: 0.6823 - val_loss: 0.6118 - val_accuracy: 0.7073\n",
            "Epoch 31/50\n",
            "16/16 [==============================] - 0s 4ms/step - loss: 0.6272 - accuracy: 0.6823 - val_loss: 0.6111 - val_accuracy: 0.7073\n",
            "Epoch 32/50\n",
            "16/16 [==============================] - 0s 4ms/step - loss: 0.6269 - accuracy: 0.6823 - val_loss: 0.6105 - val_accuracy: 0.7073\n",
            "Epoch 33/50\n",
            "16/16 [==============================] - 0s 4ms/step - loss: 0.6267 - accuracy: 0.6823 - val_loss: 0.6099 - val_accuracy: 0.7073\n",
            "Epoch 34/50\n",
            "16/16 [==============================] - 0s 5ms/step - loss: 0.6263 - accuracy: 0.6823 - val_loss: 0.6094 - val_accuracy: 0.7073\n",
            "Epoch 35/50\n",
            "16/16 [==============================] - 0s 4ms/step - loss: 0.6262 - accuracy: 0.6823 - val_loss: 0.6090 - val_accuracy: 0.7073\n",
            "Epoch 36/50\n",
            "16/16 [==============================] - 0s 4ms/step - loss: 0.6260 - accuracy: 0.6823 - val_loss: 0.6086 - val_accuracy: 0.7073\n",
            "Epoch 37/50\n",
            "16/16 [==============================] - 0s 5ms/step - loss: 0.6258 - accuracy: 0.6823 - val_loss: 0.6084 - val_accuracy: 0.7073\n",
            "Epoch 38/50\n",
            "16/16 [==============================] - 0s 5ms/step - loss: 0.6257 - accuracy: 0.6823 - val_loss: 0.6081 - val_accuracy: 0.7073\n",
            "Epoch 39/50\n",
            "16/16 [==============================] - 0s 5ms/step - loss: 0.6256 - accuracy: 0.6823 - val_loss: 0.6080 - val_accuracy: 0.7073\n",
            "Epoch 40/50\n",
            "16/16 [==============================] - 0s 5ms/step - loss: 0.6256 - accuracy: 0.6823 - val_loss: 0.6078 - val_accuracy: 0.7073\n",
            "Epoch 41/50\n",
            "16/16 [==============================] - 0s 5ms/step - loss: 0.6256 - accuracy: 0.6823 - val_loss: 0.6076 - val_accuracy: 0.7073\n",
            "Epoch 42/50\n",
            "16/16 [==============================] - 0s 5ms/step - loss: 0.6255 - accuracy: 0.6823 - val_loss: 0.6074 - val_accuracy: 0.7073\n",
            "Epoch 43/50\n",
            "16/16 [==============================] - 0s 5ms/step - loss: 0.6255 - accuracy: 0.6823 - val_loss: 0.6074 - val_accuracy: 0.7073\n",
            "Epoch 44/50\n",
            "16/16 [==============================] - 0s 4ms/step - loss: 0.6255 - accuracy: 0.6823 - val_loss: 0.6072 - val_accuracy: 0.7073\n",
            "Epoch 45/50\n",
            "16/16 [==============================] - 0s 5ms/step - loss: 0.6254 - accuracy: 0.6823 - val_loss: 0.6072 - val_accuracy: 0.7073\n",
            "Epoch 46/50\n",
            "16/16 [==============================] - 0s 5ms/step - loss: 0.6254 - accuracy: 0.6823 - val_loss: 0.6071 - val_accuracy: 0.7073\n",
            "Epoch 47/50\n",
            "16/16 [==============================] - 0s 4ms/step - loss: 0.6253 - accuracy: 0.6823 - val_loss: 0.6069 - val_accuracy: 0.7073\n",
            "Epoch 48/50\n",
            "16/16 [==============================] - 0s 6ms/step - loss: 0.6253 - accuracy: 0.6823 - val_loss: 0.6067 - val_accuracy: 0.7073\n",
            "Epoch 49/50\n",
            "16/16 [==============================] - 0s 5ms/step - loss: 0.6253 - accuracy: 0.6823 - val_loss: 0.6067 - val_accuracy: 0.7073\n",
            "Epoch 50/50\n",
            "16/16 [==============================] - 0s 4ms/step - loss: 0.6253 - accuracy: 0.6823 - val_loss: 0.6066 - val_accuracy: 0.7073\n"
          ],
          "name": "stdout"
        }
      ]
    },
    {
      "cell_type": "markdown",
      "metadata": {
        "id": "Dao5o48hld6F",
        "colab_type": "text"
      },
      "source": [
        "## *Plotting training and validation loss*"
      ]
    },
    {
      "cell_type": "code",
      "metadata": {
        "id": "42PE5cQPDLPz",
        "colab_type": "code",
        "colab": {
          "base_uri": "https://localhost:8080/",
          "height": 279
        },
        "outputId": "b5cf1f25-f3ee-42ef-f627-442b7f0c4a78"
      },
      "source": [
        "plt.plot(history.history['loss'],'r', label='Training Loss')\n",
        "plt.plot(history.history['val_loss'],'b', label='Validation Loss')\n",
        "\n",
        "plt.xlabel('Epochs')\n",
        "plt.ylabel('Loss')\n",
        "\n",
        "plt.legend()\n",
        "plt.show()"
      ],
      "execution_count": 29,
      "outputs": [
        {
          "output_type": "display_data",
          "data": {
            "image/png": "[encoded data removed]",
            "text/plain": [
              "<Figure size 432x288 with 1 Axes>"
            ]
          },
          "metadata": {
            "tags": [],
            "needs_background": "light"
          }
        }
      ]
    },
    {
      "cell_type": "markdown",
      "metadata": {
        "id": "q13LX7G0oWaQ",
        "colab_type": "text"
      },
      "source": [
        "## *Plotting Training and Validation Accuracy*"
      ]
    },
    {
      "cell_type": "code",
      "metadata": {
        "id": "0drEIAOHnHIO",
        "colab_type": "code",
        "colab": {
          "base_uri": "https://localhost:8080/",
          "height": 279
        },
        "outputId": "c46bde39-7411-45ce-f939-205b1a6233cd"
      },
      "source": [
        "plt.plot(history.history['accuracy'],'r', label='Training Accuracy')\n",
        "plt.plot(history.history['val_accuracy'], 'b', label='Validation Accuracy')\n",
        "\n",
        "plt.xlabel('Epochs')\n",
        "plt.ylabel('Accuracy')\n",
        "\n",
        "plt.legend()\n",
        "plt.show()"
      ],
      "execution_count": 30,
      "outputs": [
        {
          "output_type": "display_data",
          "data": {
            "image/png": "[encoded data removed]",
            "text/plain": [
              "<Figure size 432x288 with 1 Axes>"
            ]
          },
          "metadata": {
            "tags": [],
            "needs_background": "light"
          }
        }
      ]
    },
    {
      "cell_type": "code",
      "metadata": {
        "id": "foV2xi9HpNjq",
        "colab_type": "code",
        "colab": {}
      },
      "source": [
        ""
      ],
      "execution_count": 31,
      "outputs": []
    }
  ]
}